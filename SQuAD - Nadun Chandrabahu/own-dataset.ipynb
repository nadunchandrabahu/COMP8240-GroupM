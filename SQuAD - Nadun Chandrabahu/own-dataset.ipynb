{
 "cells": [
  {
   "cell_type": "markdown",
   "metadata": {},
   "source": [
    "# Nadun Chandrabahu- EM/F1 score calculation using own data"
   ]
  },
  {
   "cell_type": "markdown",
   "metadata": {},
   "source": [
    "I'm using MCTest dataset (Richardson et al, 2013), source: https://huggingface.co/datasets/sagnikrayc/mctest"
   ]
  },
  {
   "cell_type": "code",
   "execution_count": 32,
   "metadata": {},
   "outputs": [],
   "source": [
    "%%capture\n",
    "%pip install datasets\n",
    "%pip install transformers\n",
    "%pip install scikit-learn\n",
    "%pip install torch\n",
    "#install if necessary, i'm using Python 3.12.7"
   ]
  },
  {
   "cell_type": "code",
   "execution_count": null,
   "metadata": {},
   "outputs": [],
   "source": [
    "from datasets import load_dataset\n",
    "import pandas as pd\n",
    "\n",
    "ds = load_dataset(\"sagnikrayc/mctest\", \"mc500\")\n",
    "ds=ds[\"test\"]"
   ]
  },
  {
   "cell_type": "code",
   "execution_count": 30,
   "metadata": {},
   "outputs": [
    {
     "data": {
      "text/html": [
       "<div>\n",
       "<style scoped>\n",
       "    .dataframe tbody tr th:only-of-type {\n",
       "        vertical-align: middle;\n",
       "    }\n",
       "\n",
       "    .dataframe tbody tr th {\n",
       "        vertical-align: top;\n",
       "    }\n",
       "\n",
       "    .dataframe thead th {\n",
       "        text-align: right;\n",
       "    }\n",
       "</style>\n",
       "<table border=\"1\" class=\"dataframe\">\n",
       "  <thead>\n",
       "    <tr style=\"text-align: right;\">\n",
       "      <th></th>\n",
       "      <th>question</th>\n",
       "      <th>story</th>\n",
       "      <th>answer_text</th>\n",
       "    </tr>\n",
       "  </thead>\n",
       "  <tbody>\n",
       "    <tr>\n",
       "      <th>0</th>\n",
       "      <td>What time did the party start?</td>\n",
       "      <td>It was Sally's birthday. She was very excited....</td>\n",
       "      <td>1</td>\n",
       "    </tr>\n",
       "    <tr>\n",
       "      <th>1</th>\n",
       "      <td>Who got hurt at the party?</td>\n",
       "      <td>It was Sally's birthday. She was very excited....</td>\n",
       "      <td>Jennifer and Sally</td>\n",
       "    </tr>\n",
       "    <tr>\n",
       "      <th>2</th>\n",
       "      <td>Whose birthday is it?</td>\n",
       "      <td>It was Sally's birthday. She was very excited....</td>\n",
       "      <td>Sally</td>\n",
       "    </tr>\n",
       "    <tr>\n",
       "      <th>3</th>\n",
       "      <td>What time did Jennifer arrive to the party?</td>\n",
       "      <td>It was Sally's birthday. She was very excited....</td>\n",
       "      <td>2</td>\n",
       "    </tr>\n",
       "    <tr>\n",
       "      <th>4</th>\n",
       "      <td>What did the piggies do when Andy got back fro...</td>\n",
       "      <td>On the farm there was a little piggy named And...</td>\n",
       "      <td>play games and eat dinner</td>\n",
       "    </tr>\n",
       "  </tbody>\n",
       "</table>\n",
       "</div>"
      ],
      "text/plain": [
       "                                            question  \\\n",
       "0                     What time did the party start?   \n",
       "1                         Who got hurt at the party?   \n",
       "2                              Whose birthday is it?   \n",
       "3        What time did Jennifer arrive to the party?   \n",
       "4  What did the piggies do when Andy got back fro...   \n",
       "\n",
       "                                               story  \\\n",
       "0  It was Sally's birthday. She was very excited....   \n",
       "1  It was Sally's birthday. She was very excited....   \n",
       "2  It was Sally's birthday. She was very excited....   \n",
       "3  It was Sally's birthday. She was very excited....   \n",
       "4  On the farm there was a little piggy named And...   \n",
       "\n",
       "                 answer_text  \n",
       "0                          1  \n",
       "1         Jennifer and Sally  \n",
       "2                      Sally  \n",
       "3                          2  \n",
       "4  play games and eat dinner  "
      ]
     },
     "execution_count": 30,
     "metadata": {},
     "output_type": "execute_result"
    }
   ],
   "source": [
    "df=pd.DataFrame(ds)\n",
    "df['answer_text'] = df.apply(lambda row: row['answer_options'].get(row['answer'], None), axis=1)\n",
    "mctest_df = df[['question', 'story', 'answer_text']]\n",
    "mctest_df.head()"
   ]
  },
  {
   "cell_type": "code",
   "execution_count": 33,
   "metadata": {},
   "outputs": [],
   "source": [
    "#importing model\n",
    "from transformers import pipeline\n",
    "import torch\n",
    "distilBert=pipeline(\"question-answering\",model=\"distilbert-base-uncased-distilled-squad\")"
   ]
  },
  {
   "cell_type": "code",
   "execution_count": 36,
   "metadata": {},
   "outputs": [
    {
     "name": "stderr",
     "output_type": "stream",
     "text": [
      "C:\\Users\\nadun\\AppData\\Local\\Temp\\ipykernel_16976\\3080497688.py:2: SettingWithCopyWarning: \n",
      "A value is trying to be set on a copy of a slice from a DataFrame.\n",
      "Try using .loc[row_indexer,col_indexer] = value instead\n",
      "\n",
      "See the caveats in the documentation: https://pandas.pydata.org/pandas-docs/stable/user_guide/indexing.html#returning-a-view-versus-a-copy\n",
      "  mctest_df[\"model_prediction\"]=mctest_df.apply(lambda row: distilBert(question=row[\"question\"],context=row[\"story\"]),axis=1)\n",
      "C:\\Users\\nadun\\AppData\\Local\\Temp\\ipykernel_16976\\3080497688.py:3: SettingWithCopyWarning: \n",
      "A value is trying to be set on a copy of a slice from a DataFrame.\n",
      "Try using .loc[row_indexer,col_indexer] = value instead\n",
      "\n",
      "See the caveats in the documentation: https://pandas.pydata.org/pandas-docs/stable/user_guide/indexing.html#returning-a-view-versus-a-copy\n",
      "  mctest_df['predicted_answer'] = mctest_df['model_prediction'].apply(lambda x: x.get('answer', None))\n"
     ]
    }
   ],
   "source": [
    "#make predictions using distilbert, takes about 2 minutes to run\n",
    "mctest_df[\"model_prediction\"]=mctest_df.apply(lambda row: distilBert(question=row[\"question\"],context=row[\"story\"]),axis=1)\n",
    "mctest_df['predicted_answer'] = mctest_df['model_prediction'].apply(lambda x: x.get('answer', None))"
   ]
  },
  {
   "cell_type": "code",
   "execution_count": 38,
   "metadata": {},
   "outputs": [
    {
     "name": "stderr",
     "output_type": "stream",
     "text": [
      "C:\\Users\\nadun\\AppData\\Local\\Temp\\ipykernel_16976\\1482272627.py:2: SettingWithCopyWarning: \n",
      "A value is trying to be set on a copy of a slice from a DataFrame.\n",
      "Try using .loc[row_indexer,col_indexer] = value instead\n",
      "\n",
      "See the caveats in the documentation: https://pandas.pydata.org/pandas-docs/stable/user_guide/indexing.html#returning-a-view-versus-a-copy\n",
      "  mctest_df['score'] = mctest_df['model_prediction'].apply(lambda x: x.get('score', None))\n",
      "C:\\Users\\nadun\\AppData\\Local\\Temp\\ipykernel_16976\\1482272627.py:3: SettingWithCopyWarning: \n",
      "A value is trying to be set on a copy of a slice from a DataFrame.\n",
      "Try using .loc[row_indexer,col_indexer] = value instead\n",
      "\n",
      "See the caveats in the documentation: https://pandas.pydata.org/pandas-docs/stable/user_guide/indexing.html#returning-a-view-versus-a-copy\n",
      "  mctest_df['exact_match'] = (mctest_df['answer_text'] == mctest_df['predicted_answer']).astype(int)\n"
     ]
    }
   ],
   "source": [
    "mctest_df.head()\n",
    "mctest_df['score'] = mctest_df['model_prediction'].apply(lambda x: x.get('score', None))\n",
    "mctest_df['exact_match'] = (mctest_df['answer_text'] == mctest_df['predicted_answer']).astype(int)"
   ]
  },
  {
   "cell_type": "code",
   "execution_count": null,
   "metadata": {},
   "outputs": [
    {
     "name": "stdout",
     "output_type": "stream",
     "text": [
      "Average Score of Exact Matches is: 76.17681198910381 on 89 Exact Matches.\n"
     ]
    }
   ],
   "source": [
    "#calculate EM score \n",
    "average_score = mctest_df[mctest_df['exact_match'] == 1]['score'].mean()\n",
    "number_of_exact_matches=mctest_df[mctest_df['exact_match'] == 1]['score'].count()\n",
    "print(\"Average Score of Exact Matches is:\",average_score*100, \"on\", number_of_exact_matches, \"Exact Matches.\")"
   ]
  },
  {
   "cell_type": "code",
   "execution_count": 46,
   "metadata": {},
   "outputs": [
    {
     "name": "stdout",
     "output_type": "stream",
     "text": [
      "F1 Score: 31.22289366167542\n"
     ]
    }
   ],
   "source": [
    "# calculate F1 Score\n",
    "# calculate F1 score\n",
    "from sklearn.metrics import f1_score\n",
    "\n",
    "def calculate_f1(row):\n",
    "    true_answer = str(row[\"answer_text\"]).split()\n",
    "    predicted_answer = str(row[\"predicted_answer\"]).split()\n",
    "\n",
    "    # Calculate precision and recall\n",
    "    common = set(true_answer) & set(predicted_answer)\n",
    "    precision = len(common) / len(predicted_answer) if predicted_answer else 0\n",
    "    recall = len(common) / len(true_answer) if true_answer else 0\n",
    "\n",
    "    # Calculate F1 score\n",
    "    if precision + recall == 0:\n",
    "        f1 = 0\n",
    "    else:\n",
    "        f1 = 2 * (precision * recall) / (precision + recall)\n",
    "    \n",
    "    return f1\n",
    "\n",
    "# Apply the function to each row and store the F1 scores in a new column\n",
    "mctest_df['f1_score'] = mctest_df.apply(calculate_f1, axis=1)\n",
    "print(\"F1 Score:\",mctest_df[\"f1_score\"].mean()*100)\n"
   ]
  }
 ],
 "metadata": {
  "kernelspec": {
   "display_name": "Python 3",
   "language": "python",
   "name": "python3"
  },
  "language_info": {
   "codemirror_mode": {
    "name": "ipython",
    "version": 3
   },
   "file_extension": ".py",
   "mimetype": "text/x-python",
   "name": "python",
   "nbconvert_exporter": "python",
   "pygments_lexer": "ipython3",
   "version": "3.12.7"
  }
 },
 "nbformat": 4,
 "nbformat_minor": 2
}
