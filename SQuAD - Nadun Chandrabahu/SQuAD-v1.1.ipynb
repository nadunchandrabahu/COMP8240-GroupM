{
 "cells": [
  {
   "cell_type": "code",
   "execution_count": null,
   "metadata": {},
   "outputs": [
    {
     "name": "stderr",
     "output_type": "stream",
     "text": [
      "UsageError: unrecognized arguments: out this line if there are any errors and diagnose\n"
     ]
    }
   ],
   "source": [
    "%%capture\n",
    "%pip install datasets\n",
    "%pip install transformers\n",
    "%pip install scikit-learn\n",
    "%pip install torch\n",
    "#install if necessary, i'm using Python 3.12.7"
   ]
  },
  {
   "cell_type": "code",
   "execution_count": 2,
   "metadata": {},
   "outputs": [
    {
     "name": "stdout",
     "output_type": "stream",
     "text": [
      "         answer_text  answer_start  \\\n",
      "0     Denver Broncos           177   \n",
      "1     Denver Broncos           177   \n",
      "2     Denver Broncos           177   \n",
      "3  Carolina Panthers           249   \n",
      "4  Carolina Panthers           249   \n",
      "\n",
      "                                            question  \\\n",
      "0  Which NFL team represented the AFC at Super Bo...   \n",
      "1  Which NFL team represented the AFC at Super Bo...   \n",
      "2  Which NFL team represented the AFC at Super Bo...   \n",
      "3  Which NFL team represented the NFC at Super Bo...   \n",
      "4  Which NFL team represented the NFC at Super Bo...   \n",
      "\n",
      "                                             context        subject  \n",
      "0  Super Bowl 50 was an American football game to...  Super_Bowl_50  \n",
      "1  Super Bowl 50 was an American football game to...  Super_Bowl_50  \n",
      "2  Super Bowl 50 was an American football game to...  Super_Bowl_50  \n",
      "3  Super Bowl 50 was an American football game to...  Super_Bowl_50  \n",
      "4  Super Bowl 50 was an American football game to...  Super_Bowl_50  \n"
     ]
    }
   ],
   "source": [
    "import pandas as pd\n",
    "import json\n",
    "\n",
    "\n",
    "def json_to_df(json_file):\n",
    "    arrayForDF = []\n",
    "    for current_subject in json_file['data']:\n",
    "        subject = current_subject['title']\n",
    "        for current_context in current_subject['paragraphs']:\n",
    "            context = current_context['context']\n",
    "            for current_question in current_context['qas']:\n",
    "                question = current_question['question']\n",
    "                if (len(question) > 2):\n",
    "                    for answer in current_question['answers']:\n",
    "                        answer_text = answer['text']\n",
    "                        answer_start = answer['answer_start']\n",
    "\n",
    "                        record = {\n",
    "                                \"answer_text\": answer_text,\n",
    "                                \"answer_start\": answer_start,\n",
    "                                \"question\": question,\n",
    "                                \"context\": context,\n",
    "                                \"subject\": subject\n",
    "                            }\n",
    "                        arrayForDF.append(record)\n",
    "    df = pd.DataFrame(arrayForDF)\n",
    "    return df\n",
    "\n",
    "\n",
    "json_file = open(\"dev-v1.1.json\",)\n",
    "data = json.load(json_file)\n",
    "squad_df = json_to_df(data)\n",
    "print(squad_df.head())\n"
   ]
  },
  {
   "cell_type": "code",
   "execution_count": 3,
   "metadata": {},
   "outputs": [
    {
     "name": "stderr",
     "output_type": "stream",
     "text": [
      "c:\\Users\\nadun\\AppData\\Local\\Programs\\Python\\Python312\\Lib\\site-packages\\tqdm\\auto.py:21: TqdmWarning: IProgress not found. Please update jupyter and ipywidgets. See https://ipywidgets.readthedocs.io/en/stable/user_install.html\n",
      "  from .autonotebook import tqdm as notebook_tqdm\n"
     ]
    }
   ],
   "source": [
    "from transformers import pipeline\n",
    "import torch\n",
    "\n",
    "distilBert=pipeline(\"question-answering\",model=\"distilbert-base-uncased-distilled-squad\")"
   ]
  },
  {
   "cell_type": "code",
   "execution_count": null,
   "metadata": {},
   "outputs": [],
   "source": [
    "# you can skip the evaluation processing below and load squad_df from the next code block:\n",
    "# model predictions took me 44 minutes and 50.3 seconds\n",
    "# squad_df['model_prediction'] = squad_df.apply(\n",
    "#     lambda row: distilBert(question=row['question'], context=row['context']),\n",
    "#     axis=1\n",
    "# )\n",
    "# save above model predictions alongside SQuAD data 1.1 to csv.\n",
    "# squad_df.to_csv('squad_df.csv',columns=[\"answer_text\",\"question\",\"context\",\"model_prediction\"], index=False)"
   ]
  },
  {
   "cell_type": "code",
   "execution_count": 6,
   "metadata": {},
   "outputs": [
    {
     "data": {
      "text/html": [
       "<div>\n",
       "<style scoped>\n",
       "    .dataframe tbody tr th:only-of-type {\n",
       "        vertical-align: middle;\n",
       "    }\n",
       "\n",
       "    .dataframe tbody tr th {\n",
       "        vertical-align: top;\n",
       "    }\n",
       "\n",
       "    .dataframe thead th {\n",
       "        text-align: right;\n",
       "    }\n",
       "</style>\n",
       "<table border=\"1\" class=\"dataframe\">\n",
       "  <thead>\n",
       "    <tr style=\"text-align: right;\">\n",
       "      <th></th>\n",
       "      <th>answer_text</th>\n",
       "      <th>question</th>\n",
       "      <th>context</th>\n",
       "      <th>model_prediction</th>\n",
       "    </tr>\n",
       "  </thead>\n",
       "  <tbody>\n",
       "    <tr>\n",
       "      <th>0</th>\n",
       "      <td>Denver Broncos</td>\n",
       "      <td>Which NFL team represented the AFC at Super Bo...</td>\n",
       "      <td>Super Bowl 50 was an American football game to...</td>\n",
       "      <td>{'score': 0.9883760213851929, 'start': 177, 'e...</td>\n",
       "    </tr>\n",
       "    <tr>\n",
       "      <th>1</th>\n",
       "      <td>Denver Broncos</td>\n",
       "      <td>Which NFL team represented the AFC at Super Bo...</td>\n",
       "      <td>Super Bowl 50 was an American football game to...</td>\n",
       "      <td>{'score': 0.9883760213851929, 'start': 177, 'e...</td>\n",
       "    </tr>\n",
       "    <tr>\n",
       "      <th>2</th>\n",
       "      <td>Denver Broncos</td>\n",
       "      <td>Which NFL team represented the AFC at Super Bo...</td>\n",
       "      <td>Super Bowl 50 was an American football game to...</td>\n",
       "      <td>{'score': 0.9883760213851929, 'start': 177, 'e...</td>\n",
       "    </tr>\n",
       "    <tr>\n",
       "      <th>3</th>\n",
       "      <td>Carolina Panthers</td>\n",
       "      <td>Which NFL team represented the NFC at Super Bo...</td>\n",
       "      <td>Super Bowl 50 was an American football game to...</td>\n",
       "      <td>{'score': 0.9976987838745117, 'start': 249, 'e...</td>\n",
       "    </tr>\n",
       "    <tr>\n",
       "      <th>4</th>\n",
       "      <td>Carolina Panthers</td>\n",
       "      <td>Which NFL team represented the NFC at Super Bo...</td>\n",
       "      <td>Super Bowl 50 was an American football game to...</td>\n",
       "      <td>{'score': 0.9976987838745117, 'start': 249, 'e...</td>\n",
       "    </tr>\n",
       "  </tbody>\n",
       "</table>\n",
       "</div>"
      ],
      "text/plain": [
       "         answer_text                                           question  \\\n",
       "0     Denver Broncos  Which NFL team represented the AFC at Super Bo...   \n",
       "1     Denver Broncos  Which NFL team represented the AFC at Super Bo...   \n",
       "2     Denver Broncos  Which NFL team represented the AFC at Super Bo...   \n",
       "3  Carolina Panthers  Which NFL team represented the NFC at Super Bo...   \n",
       "4  Carolina Panthers  Which NFL team represented the NFC at Super Bo...   \n",
       "\n",
       "                                             context  \\\n",
       "0  Super Bowl 50 was an American football game to...   \n",
       "1  Super Bowl 50 was an American football game to...   \n",
       "2  Super Bowl 50 was an American football game to...   \n",
       "3  Super Bowl 50 was an American football game to...   \n",
       "4  Super Bowl 50 was an American football game to...   \n",
       "\n",
       "                                    model_prediction  \n",
       "0  {'score': 0.9883760213851929, 'start': 177, 'e...  \n",
       "1  {'score': 0.9883760213851929, 'start': 177, 'e...  \n",
       "2  {'score': 0.9883760213851929, 'start': 177, 'e...  \n",
       "3  {'score': 0.9976987838745117, 'start': 249, 'e...  \n",
       "4  {'score': 0.9976987838745117, 'start': 249, 'e...  "
      ]
     },
     "execution_count": 6,
     "metadata": {},
     "output_type": "execute_result"
    }
   ],
   "source": [
    "# you can load squad_df straight from a file with model predictions\n",
    "squad_df=pd.read_csv(\"squad_df.csv\")\n",
    "squad_df.head()"
   ]
  },
  {
   "cell_type": "code",
   "execution_count": 8,
   "metadata": {},
   "outputs": [],
   "source": [
    "#convert model_prediction column to dictionary\n",
    "import ast\n",
    "squad_df['model_prediction'] = squad_df['model_prediction'].apply(lambda x: ast.literal_eval(x) if isinstance(x, str) else x)"
   ]
  },
  {
   "cell_type": "code",
   "execution_count": 10,
   "metadata": {},
   "outputs": [
    {
     "data": {
      "text/html": [
       "<div>\n",
       "<style scoped>\n",
       "    .dataframe tbody tr th:only-of-type {\n",
       "        vertical-align: middle;\n",
       "    }\n",
       "\n",
       "    .dataframe tbody tr th {\n",
       "        vertical-align: top;\n",
       "    }\n",
       "\n",
       "    .dataframe thead th {\n",
       "        text-align: right;\n",
       "    }\n",
       "</style>\n",
       "<table border=\"1\" class=\"dataframe\">\n",
       "  <thead>\n",
       "    <tr style=\"text-align: right;\">\n",
       "      <th></th>\n",
       "      <th>answer_text</th>\n",
       "      <th>question</th>\n",
       "      <th>context</th>\n",
       "      <th>model_prediction</th>\n",
       "      <th>answer</th>\n",
       "      <th>score</th>\n",
       "      <th>exact_match</th>\n",
       "    </tr>\n",
       "  </thead>\n",
       "  <tbody>\n",
       "    <tr>\n",
       "      <th>0</th>\n",
       "      <td>Denver Broncos</td>\n",
       "      <td>Which NFL team represented the AFC at Super Bo...</td>\n",
       "      <td>Super Bowl 50 was an American football game to...</td>\n",
       "      <td>{'score': 0.9883760213851929, 'start': 177, 'e...</td>\n",
       "      <td>Denver Broncos</td>\n",
       "      <td>0.988376</td>\n",
       "      <td>1</td>\n",
       "    </tr>\n",
       "    <tr>\n",
       "      <th>1</th>\n",
       "      <td>Denver Broncos</td>\n",
       "      <td>Which NFL team represented the AFC at Super Bo...</td>\n",
       "      <td>Super Bowl 50 was an American football game to...</td>\n",
       "      <td>{'score': 0.9883760213851929, 'start': 177, 'e...</td>\n",
       "      <td>Denver Broncos</td>\n",
       "      <td>0.988376</td>\n",
       "      <td>1</td>\n",
       "    </tr>\n",
       "    <tr>\n",
       "      <th>2</th>\n",
       "      <td>Denver Broncos</td>\n",
       "      <td>Which NFL team represented the AFC at Super Bo...</td>\n",
       "      <td>Super Bowl 50 was an American football game to...</td>\n",
       "      <td>{'score': 0.9883760213851929, 'start': 177, 'e...</td>\n",
       "      <td>Denver Broncos</td>\n",
       "      <td>0.988376</td>\n",
       "      <td>1</td>\n",
       "    </tr>\n",
       "    <tr>\n",
       "      <th>3</th>\n",
       "      <td>Carolina Panthers</td>\n",
       "      <td>Which NFL team represented the NFC at Super Bo...</td>\n",
       "      <td>Super Bowl 50 was an American football game to...</td>\n",
       "      <td>{'score': 0.9976987838745117, 'start': 249, 'e...</td>\n",
       "      <td>Carolina Panthers</td>\n",
       "      <td>0.997699</td>\n",
       "      <td>1</td>\n",
       "    </tr>\n",
       "    <tr>\n",
       "      <th>4</th>\n",
       "      <td>Carolina Panthers</td>\n",
       "      <td>Which NFL team represented the NFC at Super Bo...</td>\n",
       "      <td>Super Bowl 50 was an American football game to...</td>\n",
       "      <td>{'score': 0.9976987838745117, 'start': 249, 'e...</td>\n",
       "      <td>Carolina Panthers</td>\n",
       "      <td>0.997699</td>\n",
       "      <td>1</td>\n",
       "    </tr>\n",
       "  </tbody>\n",
       "</table>\n",
       "</div>"
      ],
      "text/plain": [
       "         answer_text                                           question  \\\n",
       "0     Denver Broncos  Which NFL team represented the AFC at Super Bo...   \n",
       "1     Denver Broncos  Which NFL team represented the AFC at Super Bo...   \n",
       "2     Denver Broncos  Which NFL team represented the AFC at Super Bo...   \n",
       "3  Carolina Panthers  Which NFL team represented the NFC at Super Bo...   \n",
       "4  Carolina Panthers  Which NFL team represented the NFC at Super Bo...   \n",
       "\n",
       "                                             context  \\\n",
       "0  Super Bowl 50 was an American football game to...   \n",
       "1  Super Bowl 50 was an American football game to...   \n",
       "2  Super Bowl 50 was an American football game to...   \n",
       "3  Super Bowl 50 was an American football game to...   \n",
       "4  Super Bowl 50 was an American football game to...   \n",
       "\n",
       "                                    model_prediction             answer  \\\n",
       "0  {'score': 0.9883760213851929, 'start': 177, 'e...     Denver Broncos   \n",
       "1  {'score': 0.9883760213851929, 'start': 177, 'e...     Denver Broncos   \n",
       "2  {'score': 0.9883760213851929, 'start': 177, 'e...     Denver Broncos   \n",
       "3  {'score': 0.9976987838745117, 'start': 249, 'e...  Carolina Panthers   \n",
       "4  {'score': 0.9976987838745117, 'start': 249, 'e...  Carolina Panthers   \n",
       "\n",
       "      score  exact_match  \n",
       "0  0.988376            1  \n",
       "1  0.988376            1  \n",
       "2  0.988376            1  \n",
       "3  0.997699            1  \n",
       "4  0.997699            1  "
      ]
     },
     "execution_count": 10,
     "metadata": {},
     "output_type": "execute_result"
    }
   ],
   "source": [
    "#add columns\n",
    "squad_df['answer'] = squad_df['model_prediction'].apply(lambda x: x.get('answer', None))\n",
    "squad_df['score'] = squad_df['model_prediction'].apply(lambda x: x.get('score', None))\n",
    "squad_df['exact_match'] = (squad_df['answer_text'] == squad_df['answer']).astype(int)\n",
    "squad_df.head()"
   ]
  },
  {
   "cell_type": "code",
   "execution_count": 11,
   "metadata": {},
   "outputs": [
    {
     "name": "stdout",
     "output_type": "stream",
     "text": [
      "Average Score of Exact Matches is: 77.56786669267825\n"
     ]
    }
   ],
   "source": [
    "# calculate Exact Match (EM score)\n",
    "average_score = squad_df[squad_df['exact_match'] == 1]['score'].mean()\n",
    "print(\"Average Score of Exact Matches is:\",average_score*100)"
   ]
  },
  {
   "cell_type": "code",
   "execution_count": 12,
   "metadata": {},
   "outputs": [
    {
     "name": "stdout",
     "output_type": "stream",
     "text": [
      "F1 Score: 75.23371215677648\n"
     ]
    }
   ],
   "source": [
    "# calculate F1 score\n",
    "from sklearn.metrics import f1_score\n",
    "\n",
    "def calculate_f1(row):\n",
    "    true_answer = str(row[\"answer_text\"]).split()\n",
    "    predicted_answer = str(row[\"answer\"]).split()\n",
    "\n",
    "    # Calculate precision and recall\n",
    "    common = set(true_answer) & set(predicted_answer)\n",
    "    precision = len(common) / len(predicted_answer) if predicted_answer else 0\n",
    "    recall = len(common) / len(true_answer) if true_answer else 0\n",
    "\n",
    "    # Calculate F1 score\n",
    "    if precision + recall == 0:\n",
    "        f1 = 0\n",
    "    else:\n",
    "        f1 = 2 * (precision * recall) / (precision + recall)\n",
    "    \n",
    "    return f1\n",
    "\n",
    "# Apply the function to each row and store the F1 scores in a new column\n",
    "squad_df['f1_score'] = squad_df.apply(calculate_f1, axis=1)\n",
    "print(\"F1 Score:\",squad_df[\"f1_score\"].mean()*100)\n"
   ]
  }
 ],
 "metadata": {
  "kernelspec": {
   "display_name": "Python 3",
   "language": "python",
   "name": "python3"
  },
  "language_info": {
   "codemirror_mode": {
    "name": "ipython",
    "version": 3
   },
   "file_extension": ".py",
   "mimetype": "text/x-python",
   "name": "python",
   "nbconvert_exporter": "python",
   "pygments_lexer": "ipython3",
   "version": "3.12.7"
  }
 },
 "nbformat": 4,
 "nbformat_minor": 2
}
